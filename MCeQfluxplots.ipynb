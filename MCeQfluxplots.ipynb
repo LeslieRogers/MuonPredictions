{
 "cells": [
  {
   "cell_type": "code",
   "execution_count": 151,
   "metadata": {},
   "outputs": [],
   "source": [
    "import pylab as plt\n",
    "import numpy as np\n",
    "import pandas as pd\n",
    "import matplotlib as mpl\n",
    "#import proposal as pp  #installed with pip\n",
    "import scipy\n",
    "from scipy import interpolate\n",
    "from scipy.interpolate import InterpolatedUnivariateSpline\n",
    "from scipy.interpolate import interp2d\n",
    "import scipy.integrate as integrate\n",
    "# matplotlib used plotting. Not required to run the code.\n",
    "import matplotlib.pyplot as plt\n",
    "import re\n",
    "import sys\n",
    "import glob\n",
    "#from MCEq.core import config, MCEqRun\n",
    "#import crflux.models as crf\n",
    "import random\n",
    "try:\n",
    "    import cPickle as pickle\n",
    "except ImportError:\n",
    "    import pickle"
   ]
  },
  {
   "cell_type": "code",
   "execution_count": null,
   "metadata": {},
   "outputs": [],
   "source": []
  },
  {
   "cell_type": "code",
   "execution_count": 2,
   "metadata": {},
   "outputs": [],
   "source": [
    "CLRS=[\"gray\",\"firebrick\",\"orchid\",\"deepskyblue\",\"orange\",\"blueviolet\",\"magenta\",\"limegreen\",\"pink\",\"tomato\",\"red\",\"black\",\"yellow\",\"darkgreen\"]\n",
    "\n",
    "energies=[100,250,500,750,1000,1500,2000,3000,4000,5000,6000,7500,8500,10000,11000,12500,15000,20000,25000]\n",
    "GeV=1000\n",
    "\n",
    "NumToRun=1000\n",
    "\n",
    "AreaOfNextNEW=np.pi*(45/2)**2*66 #cm^2 but these dimensions need double checked"
   ]
  },
  {
   "cell_type": "code",
   "execution_count": 4,
   "metadata": {},
   "outputs": [
    {
     "name": "stdout",
     "output_type": "stream",
     "text": [
      "[ 0  1  2  3  4  5  6  7  8  9 10 11 12 13 14 15 16 17 18 19 20 21 22 23\n",
      " 24 25 26 27 28 29 30 31 32 33 34 35 36 37 38 39 40 41 42 43 44 45 46 47\n",
      " 48 49 50 51 52 53 54 55 56 57 58 59 60 61 62 63 64 65 66 67 68 69 70 71\n",
      " 72 73 74 75 76 77 78 79 80 81 82 83 84 85 86 87 88 89]\n"
     ]
    }
   ],
   "source": [
    "#MCeQ outputs with Phi\n",
    "r=0\n",
    "\n",
    "for files in glob.glob('./MCeQdataPlusProposal/AIRSdensity/*'):\n",
    "    #print (files,re.search('Muons(.*)degrees', files))\n",
    "    run=re.search('Muons(.*)degrees', files)\n",
    "    ths=int(run.group(1))\n",
    "    if r==0:\n",
    "        mussimData=pd.read_hdf(files)\n",
    "        mussimData['theta']=    ths\n",
    "        r+=1\n",
    "    else:\n",
    "        df=pd.read_hdf(files)\n",
    "        df['theta']=ths\n",
    "        mussimData=mussimData.append(df, ignore_index=True)\n",
    "        \n",
    "mussimData['altitude']=mussimData.altitude*10**-2    \n",
    "alpharange=mussimData.theta.unique()\n",
    "alpharange.sort()\n",
    "betarange=mussimData.phis.unique()\n",
    "betarange.sort()\n",
    "print(alpharange)\n",
    "mussimData=mussimData.rename(columns={\"theta\": \"alpha\", \"phis\":  \"beta\"})"
   ]
  },
  {
   "cell_type": "code",
   "execution_count": 5,
   "metadata": {},
   "outputs": [
    {
     "data": {
      "text/plain": [
       "121"
      ]
     },
     "execution_count": 5,
     "metadata": {},
     "output_type": "execute_result"
    }
   ],
   "source": [
    "energiesrange=mussimData.Energies.unique()\n",
    "energiesrange.sort\n",
    "len(energiesrange)"
   ]
  },
  {
   "cell_type": "code",
   "execution_count": 21,
   "metadata": {},
   "outputs": [
    {
     "data": {
      "text/plain": [
       "'E=energiesrange[50]\\ninteAs=[]\\ninteBs=[]\\ninteflux=[]\\n\\nfor A in alpharange[::2]:\\n    print(A)\\n    for B in betarange[::15]:\\n        alp=np.deg2rad(A)\\n        bet=np.deg2rad(B)\\n        inteAs.append(np.cos(alp))\\n        inteBs.append(bet)\\n        \\n        FLUX=mussimData[(mussimData.alpha==A)&(mussimData.beta==B)&(mussimData.Energies==E)].MuFLux.iloc[0]\\n        inteflux.append(FLUX)\\n        \\n\\ninteflux = np.array(inteflux)\\ninteflux=inteflux.reshape(len(np.unique(inteAs)), len(np.unique(inteBs)))\\n\\n\\n        '"
      ]
     },
     "execution_count": 21,
     "metadata": {},
     "output_type": "execute_result"
    }
   ],
   "source": [
    "'''E=energiesrange[50]\n",
    "inteAs=[]\n",
    "inteBs=[]\n",
    "inteflux=[]\n",
    "\n",
    "for A in alpharange[::2]:\n",
    "    print(A)\n",
    "    for B in betarange[::15]:\n",
    "        alp=np.deg2rad(A)\n",
    "        bet=np.deg2rad(B)\n",
    "        inteAs.append(np.cos(alp))\n",
    "        inteBs.append(bet)\n",
    "        \n",
    "        FLUX=mussimData[(mussimData.alpha==A)&(mussimData.beta==B)&(mussimData.Energies==E)].MuFLux.iloc[0]\n",
    "        inteflux.append(FLUX)\n",
    "        \n",
    "\n",
    "inteflux = np.array(inteflux)\n",
    "inteflux=inteflux.reshape(len(np.unique(inteAs)), len(np.unique(inteBs)))\n",
    "\n",
    "\n",
    "        '''"
   ]
  },
  {
   "cell_type": "code",
   "execution_count": 22,
   "metadata": {},
   "outputs": [
    {
     "data": {
      "text/plain": [
       "\"\\n\\nfig, (ax) = plt.subplots(1, 1,figsize=(9,8))\\n\\ncmap = plt.get_cmap('PiYG')\\nc=ax.pcolormesh(np.unique(inteAs),np.unique(inteBs),np.transpose(inteflux),cmap=cmap.reversed(),shading='auto',vmin=0)\\n\\n\\n\\nclb=fig.colorbar(c, ax=ax)\\nclb.ax.tick_params(labelsize=18) \\n\\nclb.ax.set_ylabel('MuonFlux'+ r'$(E/ {GeV})^3\\\\,\\\\Phi (GeV cm^{-2}\\\\,$s$^{-1}$) (GeV)', rotation=270,fontsize=18, labelpad=15)\\n\\nplt.yticks(fontsize=18)  \\nplt.xticks(fontsize=18) \\n\\nplt.ylim(-np.pi,np.pi)\\nplt.xlim(0,1)\\n\\nplt.ylabel('Azimuth',fontsize=18)\\nplt.xlabel('cos(zenith)',fontsize=18)\\nplt.tight_layout()\\n#plt.savefig('efficiency.png',dpi=250,bbox_inches='tight')\\nplt.show()\""
      ]
     },
     "execution_count": 22,
     "metadata": {},
     "output_type": "execute_result"
    }
   ],
   "source": [
    "'''\n",
    "\n",
    "fig, (ax) = plt.subplots(1, 1,figsize=(9,8))\n",
    "\n",
    "cmap = plt.get_cmap('PiYG')\n",
    "c=ax.pcolormesh(np.unique(inteAs),np.unique(inteBs),np.transpose(inteflux),cmap=cmap.reversed(),shading='auto',vmin=0)\n",
    "\n",
    "\n",
    "\n",
    "clb=fig.colorbar(c, ax=ax)\n",
    "clb.ax.tick_params(labelsize=18) \n",
    "\n",
    "clb.ax.set_ylabel('MuonFlux'+ r'$(E/ {GeV})^3\\,\\Phi (GeV cm^{-2}\\,$s$^{-1}$) (GeV)', rotation=270,fontsize=18, labelpad=15)\n",
    "\n",
    "plt.yticks(fontsize=18)  \n",
    "plt.xticks(fontsize=18) \n",
    "\n",
    "plt.ylim(-np.pi,np.pi)\n",
    "plt.xlim(0,1)\n",
    "\n",
    "plt.ylabel('Azimuth',fontsize=18)\n",
    "plt.xlabel('cos(zenith)',fontsize=18)\n",
    "plt.tight_layout()\n",
    "#plt.savefig('efficiency.png',dpi=250,bbox_inches='tight')\n",
    "plt.show()'''"
   ]
  },
  {
   "cell_type": "code",
   "execution_count": null,
   "metadata": {},
   "outputs": [],
   "source": []
  },
  {
   "cell_type": "code",
   "execution_count": 49,
   "metadata": {},
   "outputs": [],
   "source": [
    "listofpoints_alpha,listofpoints_beta=np.meshgrid(alphas, betas)"
   ]
  },
  {
   "cell_type": "code",
   "execution_count": 108,
   "metadata": {},
   "outputs": [],
   "source": [
    "\n",
    "#These to be replaced with the real lists soon\n",
    "UnitVectors=[]\n",
    "listofpoints_alpha=listofpoints_alpha.flatten()\n",
    "listofpoints_beta=listofpoints_beta.flatten()\n",
    "d2r=np.pi/180\n",
    "\n",
    "# Make 3D unit vectors on the sphere for each point available\n",
    "for i in range(0, len(listofpoints_alpha)):\n",
    "    UnitVectors.append([np.sin(listofpoints_alpha[i]*d2r)*np.cos(listofpoints_beta[i]*d2r),np.sin(listofpoints_alpha[i]*d2r)*np.sin(listofpoints_beta[i]*d2r),np.cos(listofpoints_alpha[i]*d2r)]) \n",
    "\n",
    "#This function finds the closest available (a,b) on the sphere to the one we have provided\n",
    "def ClosestPoint(a,b):\n",
    "    ThisUnitVector=[np.sin(a)*np.cos(b),np.sin(a)*np.sin(b),np.cos(a)]\n",
    "    dotprods=[np.abs(ThisUnitVector[0]*UnitVectors[i][0]+ThisUnitVector[1]*UnitVectors[i][1]+ThisUnitVector[2]*UnitVectors[i][2]) for i in range(0,len(UnitVectors))]\n",
    "    closest=np.argmax(dotprods)\n",
    "    return listofpoints_alpha[closest],listofpoints_beta[closest],closest"
   ]
  },
  {
   "cell_type": "code",
   "execution_count": 126,
   "metadata": {},
   "outputs": [],
   "source": [
    "#Get a continously interpolated F(E) function for nearest a and b\n",
    "def GetEnergyFunction(a,b,EPower=3):\n",
    "    besta,bestb,idx=ClosestPoint(a,b)\n",
    "    dataSubSet=mussimData[(mussimData.alpha==besta) & (mussimData.beta==bestb) & (mussimData.Energies<ECut)]\n",
    "    interpfun= interpolate.interp1d(dataSubSet.Energies,dataSubSet.MuFLux)\n",
    "    returnfunction=lambda E: interpfun(E)/E**EPower\n",
    "    return returnfunction"
   ]
  },
  {
   "cell_type": "code",
   "execution_count": 124,
   "metadata": {},
   "outputs": [],
   "source": [
    "#Integrate the continuous flux function near to (a,b) between these limits\n",
    "def GetFluxIntegral(a,b,EMin,EMax):\n",
    "    EnergyFunction=GetEnergyFunction(a,b)\n",
    "    return integrate.quad(EnergyFunction,EMin,EMax)\n",
    "\n",
    "#An option to provide (a,b) in units of degrees rather than radians\n",
    "def GetFluxIntegralDeg(a,b,EMin,EMax):\n",
    "    return GetFluxIntegral(a*d2r,b*d2r,EMin,EMax)"
   ]
  },
  {
   "cell_type": "code",
   "execution_count": null,
   "metadata": {},
   "outputs": [],
   "source": []
  },
  {
   "cell_type": "code",
   "execution_count": 127,
   "metadata": {},
   "outputs": [
    {
     "data": {
      "text/plain": [
       "(5.648037458383719e-06, 5.254884746023864e-09)"
      ]
     },
     "execution_count": 127,
     "metadata": {},
     "output_type": "execute_result"
    }
   ],
   "source": [
    "#Example flux integral - result is in units muons cm^-2 s^-1 sr^-1\n",
    "GetFluxIntegralDeg(22,15,100,500)"
   ]
  },
  {
   "cell_type": "code",
   "execution_count": 138,
   "metadata": {},
   "outputs": [],
   "source": [
    "EBins=np.logspace(-1,4,6)\n",
    "\n"
   ]
  },
  {
   "cell_type": "code",
   "execution_count": 137,
   "metadata": {},
   "outputs": [
    {
     "name": "stdout",
     "output_type": "stream",
     "text": [
      "Integrating fluxes for 0.1 < E < 1.0\n",
      "Integrating fluxes for 1.0 < E < 10.0\n",
      "Integrating fluxes for 10.0 < E < 100.0\n",
      "Integrating fluxes for 100.0 < E < 1000.0\n",
      "Integrating fluxes for 1000.0 < E < 10000.0\n",
      "Integrating fluxes for 10000.0 < E < 100000.0\n"
     ]
    },
    {
     "ename": "ValueError",
     "evalue": "A value in x_new is above the interpolation range.",
     "output_type": "error",
     "traceback": [
      "\u001b[0;31m---------------------------------------------------------------------------\u001b[0m",
      "\u001b[0;31mValueError\u001b[0m                                Traceback (most recent call last)",
      "\u001b[0;32m<ipython-input-137-96853df6cc46>\u001b[0m in \u001b[0;36m<module>\u001b[0;34m\u001b[0m\n\u001b[1;32m     16\u001b[0m             \u001b[0ma\u001b[0m\u001b[0;34m=\u001b[0m\u001b[0ma_sample\u001b[0m\u001b[0;34m[\u001b[0m\u001b[0mia\u001b[0m\u001b[0;34m]\u001b[0m\u001b[0;34m\u001b[0m\u001b[0;34m\u001b[0m\u001b[0m\n\u001b[1;32m     17\u001b[0m             \u001b[0mb\u001b[0m\u001b[0;34m=\u001b[0m\u001b[0mb_sample\u001b[0m\u001b[0;34m[\u001b[0m\u001b[0mib\u001b[0m\u001b[0;34m]\u001b[0m\u001b[0;34m\u001b[0m\u001b[0;34m\u001b[0m\u001b[0m\n\u001b[0;32m---> 18\u001b[0;31m             \u001b[0mfluxmesh\u001b[0m\u001b[0;34m[\u001b[0m\u001b[0mia\u001b[0m\u001b[0;34m,\u001b[0m\u001b[0mib\u001b[0m\u001b[0;34m]\u001b[0m \u001b[0;34m=\u001b[0m \u001b[0mGetFluxIntegral\u001b[0m\u001b[0;34m(\u001b[0m\u001b[0ma\u001b[0m\u001b[0;34m,\u001b[0m\u001b[0mb\u001b[0m\u001b[0;34m,\u001b[0m\u001b[0mEBins\u001b[0m\u001b[0;34m[\u001b[0m\u001b[0miE\u001b[0m\u001b[0;34m]\u001b[0m\u001b[0;34m,\u001b[0m\u001b[0mEBins\u001b[0m\u001b[0;34m[\u001b[0m\u001b[0miE\u001b[0m\u001b[0;34m+\u001b[0m\u001b[0;36m1\u001b[0m\u001b[0;34m]\u001b[0m\u001b[0;34m)\u001b[0m\u001b[0;34m[\u001b[0m\u001b[0;36m0\u001b[0m\u001b[0;34m]\u001b[0m\u001b[0;34m\u001b[0m\u001b[0;34m\u001b[0m\u001b[0m\n\u001b[0m\u001b[1;32m     19\u001b[0m     \u001b[0mfluxmeshes\u001b[0m\u001b[0;34m.\u001b[0m\u001b[0mappend\u001b[0m\u001b[0;34m(\u001b[0m\u001b[0mfluxmesh\u001b[0m\u001b[0;34m)\u001b[0m\u001b[0;34m\u001b[0m\u001b[0;34m\u001b[0m\u001b[0m\n\u001b[1;32m     20\u001b[0m \u001b[0;34m\u001b[0m\u001b[0m\n",
      "\u001b[0;32m<ipython-input-124-71e2f71ae27f>\u001b[0m in \u001b[0;36mGetFluxIntegral\u001b[0;34m(a, b, EMin, EMax)\u001b[0m\n\u001b[1;32m      1\u001b[0m \u001b[0;32mdef\u001b[0m \u001b[0mGetFluxIntegral\u001b[0m\u001b[0;34m(\u001b[0m\u001b[0ma\u001b[0m\u001b[0;34m,\u001b[0m\u001b[0mb\u001b[0m\u001b[0;34m,\u001b[0m\u001b[0mEMin\u001b[0m\u001b[0;34m,\u001b[0m\u001b[0mEMax\u001b[0m\u001b[0;34m)\u001b[0m\u001b[0;34m:\u001b[0m\u001b[0;34m\u001b[0m\u001b[0;34m\u001b[0m\u001b[0m\n\u001b[1;32m      2\u001b[0m     \u001b[0mEnergyFunction\u001b[0m\u001b[0;34m=\u001b[0m\u001b[0mGetEnergyFunction\u001b[0m\u001b[0;34m(\u001b[0m\u001b[0ma\u001b[0m\u001b[0;34m,\u001b[0m\u001b[0mb\u001b[0m\u001b[0;34m)\u001b[0m\u001b[0;34m\u001b[0m\u001b[0;34m\u001b[0m\u001b[0m\n\u001b[0;32m----> 3\u001b[0;31m     \u001b[0;32mreturn\u001b[0m \u001b[0mintegrate\u001b[0m\u001b[0;34m.\u001b[0m\u001b[0mquad\u001b[0m\u001b[0;34m(\u001b[0m\u001b[0mEnergyFunction\u001b[0m\u001b[0;34m,\u001b[0m\u001b[0mEMin\u001b[0m\u001b[0;34m,\u001b[0m\u001b[0mEMax\u001b[0m\u001b[0;34m)\u001b[0m\u001b[0;34m\u001b[0m\u001b[0;34m\u001b[0m\u001b[0m\n\u001b[0m\u001b[1;32m      4\u001b[0m \u001b[0;34m\u001b[0m\u001b[0m\n\u001b[1;32m      5\u001b[0m \u001b[0;32mdef\u001b[0m \u001b[0mGetFluxIntegralDeg\u001b[0m\u001b[0;34m(\u001b[0m\u001b[0ma\u001b[0m\u001b[0;34m,\u001b[0m\u001b[0mb\u001b[0m\u001b[0;34m,\u001b[0m\u001b[0mEMin\u001b[0m\u001b[0;34m,\u001b[0m\u001b[0mEMax\u001b[0m\u001b[0;34m)\u001b[0m\u001b[0;34m:\u001b[0m\u001b[0;34m\u001b[0m\u001b[0;34m\u001b[0m\u001b[0m\n",
      "\u001b[0;32m/usr/local/lib/python3.8/site-packages/scipy/integrate/quadpack.py\u001b[0m in \u001b[0;36mquad\u001b[0;34m(func, a, b, args, full_output, epsabs, epsrel, limit, points, weight, wvar, wopts, maxp1, limlst)\u001b[0m\n\u001b[1;32m    349\u001b[0m \u001b[0;34m\u001b[0m\u001b[0m\n\u001b[1;32m    350\u001b[0m     \u001b[0;32mif\u001b[0m \u001b[0mweight\u001b[0m \u001b[0;32mis\u001b[0m \u001b[0;32mNone\u001b[0m\u001b[0;34m:\u001b[0m\u001b[0;34m\u001b[0m\u001b[0;34m\u001b[0m\u001b[0m\n\u001b[0;32m--> 351\u001b[0;31m         retval = _quad(func, a, b, args, full_output, epsabs, epsrel, limit,\n\u001b[0m\u001b[1;32m    352\u001b[0m                        points)\n\u001b[1;32m    353\u001b[0m     \u001b[0;32melse\u001b[0m\u001b[0;34m:\u001b[0m\u001b[0;34m\u001b[0m\u001b[0;34m\u001b[0m\u001b[0m\n",
      "\u001b[0;32m/usr/local/lib/python3.8/site-packages/scipy/integrate/quadpack.py\u001b[0m in \u001b[0;36m_quad\u001b[0;34m(func, a, b, args, full_output, epsabs, epsrel, limit, points)\u001b[0m\n\u001b[1;32m    461\u001b[0m     \u001b[0;32mif\u001b[0m \u001b[0mpoints\u001b[0m \u001b[0;32mis\u001b[0m \u001b[0;32mNone\u001b[0m\u001b[0;34m:\u001b[0m\u001b[0;34m\u001b[0m\u001b[0;34m\u001b[0m\u001b[0m\n\u001b[1;32m    462\u001b[0m         \u001b[0;32mif\u001b[0m \u001b[0minfbounds\u001b[0m \u001b[0;34m==\u001b[0m \u001b[0;36m0\u001b[0m\u001b[0;34m:\u001b[0m\u001b[0;34m\u001b[0m\u001b[0;34m\u001b[0m\u001b[0m\n\u001b[0;32m--> 463\u001b[0;31m             \u001b[0;32mreturn\u001b[0m \u001b[0m_quadpack\u001b[0m\u001b[0;34m.\u001b[0m\u001b[0m_qagse\u001b[0m\u001b[0;34m(\u001b[0m\u001b[0mfunc\u001b[0m\u001b[0;34m,\u001b[0m\u001b[0ma\u001b[0m\u001b[0;34m,\u001b[0m\u001b[0mb\u001b[0m\u001b[0;34m,\u001b[0m\u001b[0margs\u001b[0m\u001b[0;34m,\u001b[0m\u001b[0mfull_output\u001b[0m\u001b[0;34m,\u001b[0m\u001b[0mepsabs\u001b[0m\u001b[0;34m,\u001b[0m\u001b[0mepsrel\u001b[0m\u001b[0;34m,\u001b[0m\u001b[0mlimit\u001b[0m\u001b[0;34m)\u001b[0m\u001b[0;34m\u001b[0m\u001b[0;34m\u001b[0m\u001b[0m\n\u001b[0m\u001b[1;32m    464\u001b[0m         \u001b[0;32melse\u001b[0m\u001b[0;34m:\u001b[0m\u001b[0;34m\u001b[0m\u001b[0;34m\u001b[0m\u001b[0m\n\u001b[1;32m    465\u001b[0m             \u001b[0;32mreturn\u001b[0m \u001b[0m_quadpack\u001b[0m\u001b[0;34m.\u001b[0m\u001b[0m_qagie\u001b[0m\u001b[0;34m(\u001b[0m\u001b[0mfunc\u001b[0m\u001b[0;34m,\u001b[0m\u001b[0mbound\u001b[0m\u001b[0;34m,\u001b[0m\u001b[0minfbounds\u001b[0m\u001b[0;34m,\u001b[0m\u001b[0margs\u001b[0m\u001b[0;34m,\u001b[0m\u001b[0mfull_output\u001b[0m\u001b[0;34m,\u001b[0m\u001b[0mepsabs\u001b[0m\u001b[0;34m,\u001b[0m\u001b[0mepsrel\u001b[0m\u001b[0;34m,\u001b[0m\u001b[0mlimit\u001b[0m\u001b[0;34m)\u001b[0m\u001b[0;34m\u001b[0m\u001b[0;34m\u001b[0m\u001b[0m\n",
      "\u001b[0;32m<ipython-input-126-874a8f5098f6>\u001b[0m in \u001b[0;36m<lambda>\u001b[0;34m(E)\u001b[0m\n\u001b[1;32m      3\u001b[0m     \u001b[0mdataSubSet\u001b[0m\u001b[0;34m=\u001b[0m\u001b[0mmussimData\u001b[0m\u001b[0;34m[\u001b[0m\u001b[0;34m(\u001b[0m\u001b[0mmussimData\u001b[0m\u001b[0;34m.\u001b[0m\u001b[0malpha\u001b[0m\u001b[0;34m==\u001b[0m\u001b[0mbesta\u001b[0m\u001b[0;34m)\u001b[0m \u001b[0;34m&\u001b[0m \u001b[0;34m(\u001b[0m\u001b[0mmussimData\u001b[0m\u001b[0;34m.\u001b[0m\u001b[0mbeta\u001b[0m\u001b[0;34m==\u001b[0m\u001b[0mbestb\u001b[0m\u001b[0;34m)\u001b[0m \u001b[0;34m&\u001b[0m \u001b[0;34m(\u001b[0m\u001b[0mmussimData\u001b[0m\u001b[0;34m.\u001b[0m\u001b[0mEnergies\u001b[0m\u001b[0;34m<\u001b[0m\u001b[0mECut\u001b[0m\u001b[0;34m)\u001b[0m\u001b[0;34m]\u001b[0m\u001b[0;34m\u001b[0m\u001b[0;34m\u001b[0m\u001b[0m\n\u001b[1;32m      4\u001b[0m     \u001b[0minterpfun\u001b[0m\u001b[0;34m=\u001b[0m \u001b[0minterpolate\u001b[0m\u001b[0;34m.\u001b[0m\u001b[0minterp1d\u001b[0m\u001b[0;34m(\u001b[0m\u001b[0mdataSubSet\u001b[0m\u001b[0;34m.\u001b[0m\u001b[0mEnergies\u001b[0m\u001b[0;34m,\u001b[0m\u001b[0mdataSubSet\u001b[0m\u001b[0;34m.\u001b[0m\u001b[0mMuFLux\u001b[0m\u001b[0;34m)\u001b[0m\u001b[0;34m\u001b[0m\u001b[0;34m\u001b[0m\u001b[0m\n\u001b[0;32m----> 5\u001b[0;31m     \u001b[0mreturnfunction\u001b[0m\u001b[0;34m=\u001b[0m\u001b[0;32mlambda\u001b[0m \u001b[0mE\u001b[0m\u001b[0;34m:\u001b[0m \u001b[0minterpfun\u001b[0m\u001b[0;34m(\u001b[0m\u001b[0mE\u001b[0m\u001b[0;34m)\u001b[0m\u001b[0;34m/\u001b[0m\u001b[0mE\u001b[0m\u001b[0;34m**\u001b[0m\u001b[0mEPower\u001b[0m\u001b[0;34m\u001b[0m\u001b[0;34m\u001b[0m\u001b[0m\n\u001b[0m\u001b[1;32m      6\u001b[0m     \u001b[0;32mreturn\u001b[0m \u001b[0mreturnfunction\u001b[0m\u001b[0;34m\u001b[0m\u001b[0;34m\u001b[0m\u001b[0m\n",
      "\u001b[0;32m/usr/local/lib/python3.8/site-packages/scipy/interpolate/polyint.py\u001b[0m in \u001b[0;36m__call__\u001b[0;34m(self, x)\u001b[0m\n\u001b[1;32m     71\u001b[0m         \"\"\"\n\u001b[1;32m     72\u001b[0m         \u001b[0mx\u001b[0m\u001b[0;34m,\u001b[0m \u001b[0mx_shape\u001b[0m \u001b[0;34m=\u001b[0m \u001b[0mself\u001b[0m\u001b[0;34m.\u001b[0m\u001b[0m_prepare_x\u001b[0m\u001b[0;34m(\u001b[0m\u001b[0mx\u001b[0m\u001b[0;34m)\u001b[0m\u001b[0;34m\u001b[0m\u001b[0;34m\u001b[0m\u001b[0m\n\u001b[0;32m---> 73\u001b[0;31m         \u001b[0my\u001b[0m \u001b[0;34m=\u001b[0m \u001b[0mself\u001b[0m\u001b[0;34m.\u001b[0m\u001b[0m_evaluate\u001b[0m\u001b[0;34m(\u001b[0m\u001b[0mx\u001b[0m\u001b[0;34m)\u001b[0m\u001b[0;34m\u001b[0m\u001b[0;34m\u001b[0m\u001b[0m\n\u001b[0m\u001b[1;32m     74\u001b[0m         \u001b[0;32mreturn\u001b[0m \u001b[0mself\u001b[0m\u001b[0;34m.\u001b[0m\u001b[0m_finish_y\u001b[0m\u001b[0;34m(\u001b[0m\u001b[0my\u001b[0m\u001b[0;34m,\u001b[0m \u001b[0mx_shape\u001b[0m\u001b[0;34m)\u001b[0m\u001b[0;34m\u001b[0m\u001b[0;34m\u001b[0m\u001b[0m\n\u001b[1;32m     75\u001b[0m \u001b[0;34m\u001b[0m\u001b[0m\n",
      "\u001b[0;32m/usr/local/lib/python3.8/site-packages/scipy/interpolate/interpolate.py\u001b[0m in \u001b[0;36m_evaluate\u001b[0;34m(self, x_new)\u001b[0m\n\u001b[1;32m    657\u001b[0m         \u001b[0my_new\u001b[0m \u001b[0;34m=\u001b[0m \u001b[0mself\u001b[0m\u001b[0;34m.\u001b[0m\u001b[0m_call\u001b[0m\u001b[0;34m(\u001b[0m\u001b[0mself\u001b[0m\u001b[0;34m,\u001b[0m \u001b[0mx_new\u001b[0m\u001b[0;34m)\u001b[0m\u001b[0;34m\u001b[0m\u001b[0;34m\u001b[0m\u001b[0m\n\u001b[1;32m    658\u001b[0m         \u001b[0;32mif\u001b[0m \u001b[0;32mnot\u001b[0m \u001b[0mself\u001b[0m\u001b[0;34m.\u001b[0m\u001b[0m_extrapolate\u001b[0m\u001b[0;34m:\u001b[0m\u001b[0;34m\u001b[0m\u001b[0;34m\u001b[0m\u001b[0m\n\u001b[0;32m--> 659\u001b[0;31m             \u001b[0mbelow_bounds\u001b[0m\u001b[0;34m,\u001b[0m \u001b[0mabove_bounds\u001b[0m \u001b[0;34m=\u001b[0m \u001b[0mself\u001b[0m\u001b[0;34m.\u001b[0m\u001b[0m_check_bounds\u001b[0m\u001b[0;34m(\u001b[0m\u001b[0mx_new\u001b[0m\u001b[0;34m)\u001b[0m\u001b[0;34m\u001b[0m\u001b[0;34m\u001b[0m\u001b[0m\n\u001b[0m\u001b[1;32m    660\u001b[0m             \u001b[0;32mif\u001b[0m \u001b[0mlen\u001b[0m\u001b[0;34m(\u001b[0m\u001b[0my_new\u001b[0m\u001b[0;34m)\u001b[0m \u001b[0;34m>\u001b[0m \u001b[0;36m0\u001b[0m\u001b[0;34m:\u001b[0m\u001b[0;34m\u001b[0m\u001b[0;34m\u001b[0m\u001b[0m\n\u001b[1;32m    661\u001b[0m                 \u001b[0;31m# Note fill_value must be broadcast up to the proper size\u001b[0m\u001b[0;34m\u001b[0m\u001b[0;34m\u001b[0m\u001b[0;34m\u001b[0m\u001b[0m\n",
      "\u001b[0;32m/usr/local/lib/python3.8/site-packages/scipy/interpolate/interpolate.py\u001b[0m in \u001b[0;36m_check_bounds\u001b[0;34m(self, x_new)\u001b[0m\n\u001b[1;32m    689\u001b[0m                              \"range.\")\n\u001b[1;32m    690\u001b[0m         \u001b[0;32mif\u001b[0m \u001b[0mself\u001b[0m\u001b[0;34m.\u001b[0m\u001b[0mbounds_error\u001b[0m \u001b[0;32mand\u001b[0m \u001b[0mabove_bounds\u001b[0m\u001b[0;34m.\u001b[0m\u001b[0many\u001b[0m\u001b[0;34m(\u001b[0m\u001b[0;34m)\u001b[0m\u001b[0;34m:\u001b[0m\u001b[0;34m\u001b[0m\u001b[0;34m\u001b[0m\u001b[0m\n\u001b[0;32m--> 691\u001b[0;31m             raise ValueError(\"A value in x_new is above the interpolation \"\n\u001b[0m\u001b[1;32m    692\u001b[0m                              \"range.\")\n\u001b[1;32m    693\u001b[0m \u001b[0;34m\u001b[0m\u001b[0m\n",
      "\u001b[0;31mValueError\u001b[0m: A value in x_new is above the interpolation range."
     ]
    }
   ],
   "source": [
    "#Plot muon fluxes vs energy\n",
    "cosa_sample=np.linspace(0,1,20)\n",
    "a_sample=np.arccos(cosa_sample)\n",
    "b_sample=np.linspace(-np.pi,np.pi,20)\n",
    "cosa_mesh, b_mesh=np.meshgrid(cosa_sample,b_sample)\n",
    "fluxmeshes=[]\n",
    "\n",
    "\n",
    "for iE in range(0,len(EBins)-1):\n",
    "\n",
    "    fluxmesh = np.zeros_like(cosa_mesh)\n",
    "    print(\"Integrating fluxes for \"+ str(EBins[iE])+ \" < E < \" + str(EBins[iE+1]))\n",
    "    for ia in range(0,len(a_sample)):\n",
    "        for ib in range(0,len(b_sample)):\n",
    "            a=a_sample[ia]\n",
    "            b=b_sample[ib]\n",
    "            fluxmesh[ia,ib] = GetFluxIntegral(a,b,EBins[iE],EBins[iE+1])[0]\n",
    "    fluxmeshes.append(fluxmesh)        \n",
    "\n",
    "    "
   ]
  },
  {
   "cell_type": "code",
   "execution_count": 180,
   "metadata": {},
   "outputs": [
    {
     "data": {
      "text/plain": [
       "Text(0, 0.5, 'Azimuth')"
      ]
     },
     "execution_count": 180,
     "metadata": {},
     "output_type": "execute_result"
    },
    {
     "data": {
      "image/png": "[encoded data removed]",
      "text/plain": [
       "<Figure size 864x720 with 7 Axes>"
      ]
     },
     "metadata": {
      "needs_background": "light"
     },
     "output_type": "display_data"
    }
   ],
   "source": [
    "fig, axes = plt.subplots(nrows=2, ncols=3,figsize=(12,10), sharex=True, sharey=True)\n",
    "cmap = plt.get_cmap('Blues')\n",
    "for iax in range(0,len(axes.flat)-1):\n",
    "    ax=axes.flatten()[iax]\n",
    "    im=ax.pcolormesh(cosa_sample,b_sample,np.transpose(fluxmeshes[iax]),norm=mpl.colors.LogNorm(vmin=1e-7, vmax=1e-1),cmap='inferno',shading='auto')\n",
    "    ax.set_title(str(EBins[iax])+ \" < E/GeV < \" + str(EBins[iax+1]))\n",
    "cbar=fig.colorbar(im, ax=axes.ravel().tolist(),label='Flux (cm$^-2$ s$^{-1}$ sr$^{-1}$)')\n",
    "cbar.set_label('Flux (cm$^-2$ s$^{-1}$ sr$^{-1}$)',fontsize=16)\n",
    "cbar.ax.tick_params(labelsize=16)\n",
    "totalflux=np.zeros_like(fluxmeshes[0])\n",
    "for m in fluxmeshes:\n",
    "    totalflux+=m\n",
    "ax=axes.flatten()[-1]\n",
    "im=ax.pcolormesh(cosa_sample,b_sample,np.transpose(totalflux),norm=mpl.colors.LogNorm(vmin=1e-7, vmax=1e-1),cmap='inferno',shading='auto')\n",
    "ax.set_title(\"Integrated\")\n",
    "\n",
    "axes[1,0].set_xlabel(\"Zenith\",fontsize=12)\n",
    "axes[1,1].set_xlabel(\"Zenith\",fontsize=12)\n",
    "axes[1,2].set_xlabel(\"Zenith\",fontsize=12)\n",
    "\n",
    "axes[1,0].set_ylabel(\"Azimuth\",fontsize=12)\n",
    "axes[0,0].set_ylabel(\"Azimuth\",fontsize=12)\n",
    "\n"
   ]
  },
  {
   "cell_type": "code",
   "execution_count": 25,
   "metadata": {
    "scrolled": true
   },
   "outputs": [
    {
     "name": "stdout",
     "output_type": "stream",
     "text": [
      "starting on energy 0\n",
      "starting on energy 1\n",
      "starting on energy 2\n",
      "starting on energy 3\n",
      "starting on energy 4\n",
      "starting on energy 5\n"
     ]
    },
    {
     "data": {
      "image/png": "[encoded data removed]",
      "text/plain": [
       "<Figure size 864x720 with 7 Axes>"
      ]
     },
     "metadata": {
      "needs_background": "light"
     },
     "output_type": "display_data"
    }
   ],
   "source": [
    "energies=energiesrange[5:90:15]\n",
    "locs=range(0,6)\n",
    "a=0\n",
    "\n",
    "fig, axes = plt.subplots(nrows=2, ncols=3,figsize=(12,10), sharex=True, sharey=True)\n",
    "cmap = plt.get_cmap('Blues')\n",
    "for ax in axes.flat:\n",
    "    \n",
    "    print(\"starting on energy\",a)\n",
    "    LOC=locs[a]\n",
    "    \n",
    "\n",
    "\n",
    "    E=energies[LOC]\n",
    "\n",
    "    inteAs=[]\n",
    "    inteBs=[]\n",
    "    inteflux=[]\n",
    "\n",
    "    for A in alpharange[::4]:\n",
    "        #print(A)\n",
    "        for B in betarange[::25]:\n",
    "            alp=np.deg2rad(A)\n",
    "            bet=np.deg2rad(B)\n",
    "            inteAs.append(np.cos(alp))\n",
    "            inteBs.append(bet)\n",
    "\n",
    "            FLUX=mussimData[(mussimData.alpha==A)&(mussimData.beta==B)&(mussimData.Energies==E)].MuFLux.iloc[0]\n",
    "            inteflux.append(FLUX)\n",
    "\n",
    "\n",
    "    inteflux = np.array(inteflux)\n",
    "    inteflux=inteflux.reshape(len(np.unique(inteAs)), len(np.unique(inteBs)))\n",
    "\n",
    "\n",
    "    im=ax.pcolormesh(np.unique(inteAs),np.unique(inteBs),np.transpose(inteflux),cmap=cmap.reversed(),shading='auto',vmin=0,vmax=.22)\n",
    "\n",
    "\n",
    "\n",
    "    #clb=fig.colorbar(c, ax=ax)\n",
    "    #clb.ax.tick_params(labelsize=18) \n",
    "\n",
    "    #clb.ax.set_ylabel('MuonFlux'+ r'$(E/ {GeV})^3\\,\\Phi (GeV cm^{-2}\\,$s$^{-1}$) (GeV)', rotation=270,fontsize=18, labelpad=15)\n",
    "\n",
    "    \n",
    "    ax.set_ylim(-np.pi,np.pi)\n",
    "    ax.set_xlim(0,1)\n",
    "    ax.tick_params(axis='both', which='major', labelsize=12)\n",
    "    \n",
    "\n",
    "    #ax.legend(loc='lower right',title=str(E*10**-3)+'TeV',title_fontsize=12)\n",
    "\n",
    "    if (LOC>2):\n",
    "        ax.set_xlabel(\"cos(zenith)\",fontsize=16)\n",
    "    if (LOC==0) or (LOC==3):        \n",
    "        ax.set_ylabel(\"Azimuth\",fontsize=16)\n",
    "\n",
    "\n",
    "    a+=1\n",
    "\n",
    "fig.subplots_adjust(wspace=.05, hspace=.05)\n",
    "\n",
    "cbar=fig.colorbar(im, ax=axes.ravel().tolist())\n",
    "#cbar.set_ticks(np.arange(0, 1, 0.2))\n",
    "cbar.set_label('MuonFlux'+ r'$(E/ {GeV})^3\\,\\Phi (GeV cm^{-2}\\,$s$^{-1}$,$sr^{-1}$)',fontsize=16)\n",
    "cbar.ax.tick_params(labelsize=16)\n",
    "#fig.clim(0,1)\n",
    "\n",
    "\n",
    "#fig.savefig(\"/Users/rogerslc/PROPOSAL/PROPOSAL/SimulatedPercents.png\",dpi=250,bbox_inches='tight')\n",
    "\n",
    "#plt.show()\n",
    "\n",
    "\n",
    "\n",
    "\n"
   ]
  },
  {
   "cell_type": "code",
   "execution_count": 24,
   "metadata": {},
   "outputs": [
    {
     "name": "stdout",
     "output_type": "stream",
     "text": [
      "starting on energy 0\n"
     ]
    },
    {
     "ename": "ValueError",
     "evalue": "Length of values (23) does not match length of index (644)",
     "output_type": "error",
     "traceback": [
      "\u001b[0;31m---------------------------------------------------------------------------\u001b[0m",
      "\u001b[0;31mValueError\u001b[0m                                Traceback (most recent call last)",
      "\u001b[0;32m<ipython-input-24-4ced9eac5612>\u001b[0m in \u001b[0;36m<module>\u001b[0;34m\u001b[0m\n\u001b[1;32m     35\u001b[0m     \u001b[0mdf\u001b[0m\u001b[0;34m=\u001b[0m\u001b[0mpd\u001b[0m\u001b[0;34m.\u001b[0m\u001b[0mDataFrame\u001b[0m\u001b[0;34m(\u001b[0m\u001b[0minteAs\u001b[0m\u001b[0;34m,\u001b[0m \u001b[0mcolumns\u001b[0m \u001b[0;34m=\u001b[0m \u001b[0;34m[\u001b[0m\u001b[0;34m'Alpha'\u001b[0m\u001b[0;34m]\u001b[0m\u001b[0;34m)\u001b[0m\u001b[0;34m\u001b[0m\u001b[0;34m\u001b[0m\u001b[0m\n\u001b[1;32m     36\u001b[0m     \u001b[0mdf\u001b[0m\u001b[0;34m[\u001b[0m\u001b[0;34m'Beta'\u001b[0m\u001b[0;34m]\u001b[0m\u001b[0;34m=\u001b[0m\u001b[0minteBs\u001b[0m\u001b[0;34m\u001b[0m\u001b[0;34m\u001b[0m\u001b[0m\n\u001b[0;32m---> 37\u001b[0;31m     \u001b[0mdf\u001b[0m\u001b[0;34m[\u001b[0m\u001b[0;34m'Muflux'\u001b[0m\u001b[0;34m]\u001b[0m\u001b[0;34m=\u001b[0m\u001b[0minteflux\u001b[0m\u001b[0;34m\u001b[0m\u001b[0;34m\u001b[0m\u001b[0m\n\u001b[0m\u001b[1;32m     38\u001b[0m \u001b[0;34m\u001b[0m\u001b[0m\n\u001b[1;32m     39\u001b[0m     \u001b[0mfluxarray\u001b[0m\u001b[0;34m=\u001b[0m\u001b[0mnp\u001b[0m\u001b[0;34m.\u001b[0m\u001b[0marray\u001b[0m\u001b[0;34m(\u001b[0m\u001b[0mdf\u001b[0m\u001b[0;34m.\u001b[0m\u001b[0mMuflux\u001b[0m\u001b[0;34m)\u001b[0m\u001b[0;34m\u001b[0m\u001b[0;34m\u001b[0m\u001b[0m\n",
      "\u001b[0;32m/usr/local/lib/python3.8/site-packages/pandas/core/frame.py\u001b[0m in \u001b[0;36m__setitem__\u001b[0;34m(self, key, value)\u001b[0m\n\u001b[1;32m   3038\u001b[0m         \u001b[0;32melse\u001b[0m\u001b[0;34m:\u001b[0m\u001b[0;34m\u001b[0m\u001b[0;34m\u001b[0m\u001b[0m\n\u001b[1;32m   3039\u001b[0m             \u001b[0;31m# set column\u001b[0m\u001b[0;34m\u001b[0m\u001b[0;34m\u001b[0m\u001b[0;34m\u001b[0m\u001b[0m\n\u001b[0;32m-> 3040\u001b[0;31m             \u001b[0mself\u001b[0m\u001b[0;34m.\u001b[0m\u001b[0m_set_item\u001b[0m\u001b[0;34m(\u001b[0m\u001b[0mkey\u001b[0m\u001b[0;34m,\u001b[0m \u001b[0mvalue\u001b[0m\u001b[0;34m)\u001b[0m\u001b[0;34m\u001b[0m\u001b[0;34m\u001b[0m\u001b[0m\n\u001b[0m\u001b[1;32m   3041\u001b[0m \u001b[0;34m\u001b[0m\u001b[0m\n\u001b[1;32m   3042\u001b[0m     \u001b[0;32mdef\u001b[0m \u001b[0m_setitem_slice\u001b[0m\u001b[0;34m(\u001b[0m\u001b[0mself\u001b[0m\u001b[0;34m,\u001b[0m \u001b[0mkey\u001b[0m\u001b[0;34m:\u001b[0m \u001b[0mslice\u001b[0m\u001b[0;34m,\u001b[0m \u001b[0mvalue\u001b[0m\u001b[0;34m)\u001b[0m\u001b[0;34m:\u001b[0m\u001b[0;34m\u001b[0m\u001b[0;34m\u001b[0m\u001b[0m\n",
      "\u001b[0;32m/usr/local/lib/python3.8/site-packages/pandas/core/frame.py\u001b[0m in \u001b[0;36m_set_item\u001b[0;34m(self, key, value)\u001b[0m\n\u001b[1;32m   3114\u001b[0m         \"\"\"\n\u001b[1;32m   3115\u001b[0m         \u001b[0mself\u001b[0m\u001b[0;34m.\u001b[0m\u001b[0m_ensure_valid_index\u001b[0m\u001b[0;34m(\u001b[0m\u001b[0mvalue\u001b[0m\u001b[0;34m)\u001b[0m\u001b[0;34m\u001b[0m\u001b[0;34m\u001b[0m\u001b[0m\n\u001b[0;32m-> 3116\u001b[0;31m         \u001b[0mvalue\u001b[0m \u001b[0;34m=\u001b[0m \u001b[0mself\u001b[0m\u001b[0;34m.\u001b[0m\u001b[0m_sanitize_column\u001b[0m\u001b[0;34m(\u001b[0m\u001b[0mkey\u001b[0m\u001b[0;34m,\u001b[0m \u001b[0mvalue\u001b[0m\u001b[0;34m)\u001b[0m\u001b[0;34m\u001b[0m\u001b[0;34m\u001b[0m\u001b[0m\n\u001b[0m\u001b[1;32m   3117\u001b[0m         \u001b[0mNDFrame\u001b[0m\u001b[0;34m.\u001b[0m\u001b[0m_set_item\u001b[0m\u001b[0;34m(\u001b[0m\u001b[0mself\u001b[0m\u001b[0;34m,\u001b[0m \u001b[0mkey\u001b[0m\u001b[0;34m,\u001b[0m \u001b[0mvalue\u001b[0m\u001b[0;34m)\u001b[0m\u001b[0;34m\u001b[0m\u001b[0;34m\u001b[0m\u001b[0m\n\u001b[1;32m   3118\u001b[0m \u001b[0;34m\u001b[0m\u001b[0m\n",
      "\u001b[0;32m/usr/local/lib/python3.8/site-packages/pandas/core/frame.py\u001b[0m in \u001b[0;36m_sanitize_column\u001b[0;34m(self, key, value, broadcast)\u001b[0m\n\u001b[1;32m   3762\u001b[0m \u001b[0;34m\u001b[0m\u001b[0m\n\u001b[1;32m   3763\u001b[0m             \u001b[0;31m# turn me into an ndarray\u001b[0m\u001b[0;34m\u001b[0m\u001b[0;34m\u001b[0m\u001b[0;34m\u001b[0m\u001b[0m\n\u001b[0;32m-> 3764\u001b[0;31m             \u001b[0mvalue\u001b[0m \u001b[0;34m=\u001b[0m \u001b[0msanitize_index\u001b[0m\u001b[0;34m(\u001b[0m\u001b[0mvalue\u001b[0m\u001b[0;34m,\u001b[0m \u001b[0mself\u001b[0m\u001b[0;34m.\u001b[0m\u001b[0mindex\u001b[0m\u001b[0;34m)\u001b[0m\u001b[0;34m\u001b[0m\u001b[0;34m\u001b[0m\u001b[0m\n\u001b[0m\u001b[1;32m   3765\u001b[0m             \u001b[0;32mif\u001b[0m \u001b[0;32mnot\u001b[0m \u001b[0misinstance\u001b[0m\u001b[0;34m(\u001b[0m\u001b[0mvalue\u001b[0m\u001b[0;34m,\u001b[0m \u001b[0;34m(\u001b[0m\u001b[0mnp\u001b[0m\u001b[0;34m.\u001b[0m\u001b[0mndarray\u001b[0m\u001b[0;34m,\u001b[0m \u001b[0mIndex\u001b[0m\u001b[0;34m)\u001b[0m\u001b[0;34m)\u001b[0m\u001b[0;34m:\u001b[0m\u001b[0;34m\u001b[0m\u001b[0;34m\u001b[0m\u001b[0m\n\u001b[1;32m   3766\u001b[0m                 \u001b[0;32mif\u001b[0m \u001b[0misinstance\u001b[0m\u001b[0;34m(\u001b[0m\u001b[0mvalue\u001b[0m\u001b[0;34m,\u001b[0m \u001b[0mlist\u001b[0m\u001b[0;34m)\u001b[0m \u001b[0;32mand\u001b[0m \u001b[0mlen\u001b[0m\u001b[0;34m(\u001b[0m\u001b[0mvalue\u001b[0m\u001b[0;34m)\u001b[0m \u001b[0;34m>\u001b[0m \u001b[0;36m0\u001b[0m\u001b[0;34m:\u001b[0m\u001b[0;34m\u001b[0m\u001b[0;34m\u001b[0m\u001b[0m\n",
      "\u001b[0;32m/usr/local/lib/python3.8/site-packages/pandas/core/internals/construction.py\u001b[0m in \u001b[0;36msanitize_index\u001b[0;34m(data, index)\u001b[0m\n\u001b[1;32m    745\u001b[0m     \"\"\"\n\u001b[1;32m    746\u001b[0m     \u001b[0;32mif\u001b[0m \u001b[0mlen\u001b[0m\u001b[0;34m(\u001b[0m\u001b[0mdata\u001b[0m\u001b[0;34m)\u001b[0m \u001b[0;34m!=\u001b[0m \u001b[0mlen\u001b[0m\u001b[0;34m(\u001b[0m\u001b[0mindex\u001b[0m\u001b[0;34m)\u001b[0m\u001b[0;34m:\u001b[0m\u001b[0;34m\u001b[0m\u001b[0;34m\u001b[0m\u001b[0m\n\u001b[0;32m--> 747\u001b[0;31m         raise ValueError(\n\u001b[0m\u001b[1;32m    748\u001b[0m             \u001b[0;34m\"Length of values \"\u001b[0m\u001b[0;34m\u001b[0m\u001b[0;34m\u001b[0m\u001b[0m\n\u001b[1;32m    749\u001b[0m             \u001b[0;34mf\"({len(data)}) \"\u001b[0m\u001b[0;34m\u001b[0m\u001b[0;34m\u001b[0m\u001b[0m\n",
      "\u001b[0;31mValueError\u001b[0m: Length of values (23) does not match length of index (644)"
     ]
    }
   ],
   "source": [
    "energies=energiesrange[5:90:15]\n",
    "locs=range(0,6)\n",
    "a=0\n",
    "\n",
    "for ax in axes.flat:\n",
    "    print(\"starting on energy\",a)\n",
    "    LOC=locs[a]\n",
    "\n",
    "    E=energies[LOC]\n",
    "\n",
    "    inteAs=[]\n",
    "    inteBs=[]\n",
    "    inteflux=[]\n",
    "\n",
    "    for A in alpharange[::4]:\n",
    "        #print(A)\n",
    "        for B in betarange[::25]:\n",
    "            alp=np.deg2rad(A)\n",
    "            bet=np.deg2rad(B)\n",
    "            inteAs.append(np.cos(alp))\n",
    "            inteBs.append(bet)\n",
    "\n",
    "            FLUX=mussimData[(mussimData.alpha==A)&(mussimData.beta==B)&(mussimData.Energies==E)].MuFLux.iloc[0]\n",
    "            inteflux.append(FLUX)\n",
    "\n",
    "\n",
    "    inteflux = np.array(inteflux)\n",
    "    inteflux=inteflux.reshape(len(np.unique(inteAs)), len(np.unique(inteBs)))\n",
    "\n",
    "\n",
    "\n",
    "\n",
    "    a+=1\n",
    "\n",
    "    df=pd.DataFrame(inteAs, columns = ['Alpha'])\n",
    "    df['Beta']=inteBs\n",
    "    df['Muflux']=inteflux\n",
    "\n",
    "    fluxarray=np.array(df.Muflux)\n",
    "    fluxarray = fluxarray.reshape(len(df.Alpha.unique()), len(df.Beta.unique()))\n",
    "    FluxMuons=scipy.interpolate.RectBivariateSpline(np.unique(df.Alpha),np.unique(df.Beta),fluxarray,s=0,kx=3, ky=3)\n",
    "\n",
    "    with open('/Users/rogerslc/MCeQ/MCeQ_Muons_interpolator'+str(np.round((E*10**-3),4))+'TeV.pkl', 'wb') as f:\n",
    "        pickle.dump(FluxMuons, f)\n",
    "        \n"
   ]
  },
  {
   "cell_type": "code",
   "execution_count": null,
   "metadata": {},
   "outputs": [],
   "source": []
  }
 ],
 "metadata": {
  "kernelspec": {
   "display_name": "Python 3",
   "language": "python",
   "name": "python3"
  },
  "language_info": {
   "codemirror_mode": {
    "name": "ipython",
    "version": 3
   },
   "file_extension": ".py",
   "mimetype": "text/x-python",
   "name": "python",
   "nbconvert_exporter": "python",
   "pygments_lexer": "ipython3",
   "version": "3.8.6"
  }
 },
 "nbformat": 4,
 "nbformat_minor": 5
}
