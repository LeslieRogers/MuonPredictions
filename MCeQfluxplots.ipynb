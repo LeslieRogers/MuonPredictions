{
 "cells": [
  {
   "cell_type": "code",
   "execution_count": 1,
   "id": "3c2e30dc",
   "metadata": {},
   "outputs": [],
   "source": [
    "import pylab as plt\n",
    "import numpy as np\n",
    "import pandas as pdimport proposal as pp  #installed with pip\n",
    "import scipy\n",
    "from scipy import interpolate\n",
    "from scipy.interpolate import InterpolatedUnivariateSpline\n",
    "# matplotlib used plotting. Not required to run the code.\n",
    "import matplotlib.pyplot as plt\n",
    "import re\n",
    "import sys\n",
    "import glob\n",
    "from MCEq.core import config, MCEqRun\n",
    "import crflux.models as crf\n",
    "# matplotlib used plotting. Not required to run the code.\n",
    "import matplotlib.pyplot as plt\n",
    "import random\n",
    "try:\n",
    "    import cPickle as pickle\n",
    "except ImportError:\n",
    "    import pickle"
   ]
  },
  {
   "cell_type": "code",
   "execution_count": null,
   "id": "87053532",
   "metadata": {},
   "outputs": [],
   "source": []
  },
  {
   "cell_type": "code",
   "execution_count": 2,
   "id": "6bf5f5b8",
   "metadata": {},
   "outputs": [],
   "source": [
    "CLRS=[\"gray\",\"firebrick\",\"orchid\",\"deepskyblue\",\"orange\",\"blueviolet\",\"magenta\",\"limegreen\",\"pink\",\"tomato\",\"red\",\"black\",\"yellow\",\"darkgreen\"]\n",
    "\n",
    "energies=[100,250,500,750,1000,1500,2000,3000,4000,5000,6000,7500,8500,10000,11000,12500,15000,20000,25000]\n",
    "GeV=1000\n",
    "\n",
    "NumToRun=1000\n",
    "\n",
    "AreaOfNextNEW=np.pi*(45/2)**2*66 #cm^2 but these dimensions need double checked"
   ]
  },
  {
   "cell_type": "code",
   "execution_count": null,
   "id": "59a089dc",
   "metadata": {},
   "outputs": [],
   "source": [
    "#to open files in neutrinos\n",
    "\n",
    "with h5py.File(filename, \"r\") as f:\n",
    "    print(\"Keys: %s\" % f.keys())\n",
    "    a_group_key = list(f.keys())[0]\n",
    "    data = list(f[a_group_key])"
   ]
  },
  {
   "cell_type": "code",
   "execution_count": 9,
   "id": "ee77ae88",
   "metadata": {},
   "outputs": [
    {
     "name": "stdout",
     "output_type": "stream",
     "text": [
      "[ 0  1  2  3  4  5  6  7  8  9 10 11 12 13 14 15 16 17 18 19 20 21 22 23\n",
      " 24 25 26 27 28 29 30 31 32 33 34 35 36 37 38 39 40 41 42 43 44 45 46 47\n",
      " 48 49 50 51 52 53 54 55 56 57 58 59 60 61 62 63 64 65 66 67 68 69 70 71\n",
      " 72 73 74 75 76 77 78 79 80 81 82 83 84 85 86 87 88 89]\n"
     ]
    }
   ],
   "source": [
    "#MCeQ outputs with Phi\n",
    "r=0\n",
    "\n",
    "for files in glob.glob('/Users/rogerslc/Documents/MuFluxPred/Phis/Muons*degrees.h5'):\n",
    "    #print (files,re.search('Muons(.*)degrees', files))\n",
    "    run=re.search('Muons(.*)degrees', files)\n",
    "    ths=int(run.group(1))\n",
    "    if r==0:\n",
    "        mussimData=pd.read_hdf(files)\n",
    "        mussimData['theta']=    ths\n",
    "        r+=1\n",
    "    else:\n",
    "        df=pd.read_hdf(files)\n",
    "        df['theta']=ths\n",
    "        mussimData=mussimData.append(df, ignore_index=True)\n",
    "        \n",
    "mussimData['altitude']=mussimData.altitude*10**-2    \n",
    "alpharange=mussimData.theta.unique()\n",
    "alpharange.sort()\n",
    "betarange=mussimData.phis.unique()\n",
    "betarange.sort()\n",
    "print(alpharange)\n",
    "mussimData=mussimData.rename(columns={\"theta\": \"alpha\", \"phis\":  \"beta\"})"
   ]
  },
  {
   "cell_type": "code",
   "execution_count": 11,
   "id": "c814c0af",
   "metadata": {},
   "outputs": [
    {
     "data": {
      "text/plain": [
       "121"
      ]
     },
     "execution_count": 11,
     "metadata": {},
     "output_type": "execute_result"
    }
   ],
   "source": [
    "energiesrange=mussimData.Energies.unique()\n",
    "energiesrange.sort\n",
    "len(energiesrange)"
   ]
  },
  {
   "cell_type": "code",
   "execution_count": 65,
   "id": "6f935b44",
   "metadata": {},
   "outputs": [
    {
     "name": "stdout",
     "output_type": "stream",
     "text": [
      "0\n",
      "2\n",
      "4\n",
      "6\n",
      "8\n",
      "10\n",
      "12\n",
      "14\n",
      "16\n",
      "18\n",
      "20\n",
      "22\n",
      "24\n",
      "26\n",
      "28\n",
      "30\n",
      "32\n",
      "34\n",
      "36\n",
      "38\n",
      "40\n",
      "42\n",
      "44\n",
      "46\n",
      "48\n",
      "50\n",
      "52\n",
      "54\n",
      "56\n",
      "58\n",
      "60\n",
      "62\n",
      "64\n",
      "66\n",
      "68\n",
      "70\n",
      "72\n",
      "74\n",
      "76\n",
      "78\n",
      "80\n",
      "82\n",
      "84\n",
      "86\n",
      "88\n"
     ]
    }
   ],
   "source": [
    "E=energiesrange[50]\n",
    "inteAs=[]\n",
    "inteBs=[]\n",
    "inteflux=[]\n",
    "\n",
    "for A in alpharange[::2]:\n",
    "    print(A)\n",
    "    for B in betarange[::15]:\n",
    "        alp=np.deg2rad(A)\n",
    "        bet=np.deg2rad(B)\n",
    "        inteAs.append(np.cos(alp))\n",
    "        inteBs.append(bet)\n",
    "        \n",
    "        FLUX=mussimData[(mussimData.alpha==A)&(mussimData.beta==B)&(mussimData.Energies==E)].MuFLux.iloc[0]\n",
    "        inteflux.append(FLUX)\n",
    "        \n",
    "\n",
    "inteflux = np.array(inteflux)\n",
    "inteflux=inteflux.reshape(len(np.unique(inteAs)), len(np.unique(inteBs)))\n",
    "\n",
    "\n",
    "        "
   ]
  },
  {
   "cell_type": "code",
   "execution_count": 73,
   "id": "51241b6c",
   "metadata": {},
   "outputs": [
    {
     "data": {
      "image/png": "[encoded data removed]",
      "text/plain": [
       "<Figure size 648x576 with 2 Axes>"
      ]
     },
     "metadata": {
      "needs_background": "light"
     },
     "output_type": "display_data"
    }
   ],
   "source": [
    "\n",
    "\n",
    "fig, (ax) = plt.subplots(1, 1,figsize=(9,8))\n",
    "\n",
    "cmap = plt.get_cmap('PiYG')\n",
    "c=ax.pcolormesh(np.unique(inteAs),np.unique(inteBs),np.transpose(inteflux),cmap=cmap.reversed(),shading='auto',vmin=0)\n",
    "\n",
    "\n",
    "\n",
    "clb=fig.colorbar(c, ax=ax)\n",
    "clb.ax.tick_params(labelsize=18) \n",
    "\n",
    "clb.ax.set_ylabel('MuonFlux'+ r'$(E/ {GeV})^3\\,\\Phi (GeV cm^{-2}\\,$s$^{-1}$) (GeV)', rotation=270,fontsize=18, labelpad=15)\n",
    "\n",
    "plt.yticks(fontsize=18)  \n",
    "plt.xticks(fontsize=18) \n",
    "\n",
    "plt.ylim(-np.pi,np.pi)\n",
    "plt.xlim(0,1)\n",
    "\n",
    "plt.ylabel('Azimuth',fontsize=18)\n",
    "plt.xlabel('cos(zenith)',fontsize=18)\n",
    "plt.tight_layout()\n",
    "#plt.savefig('efficiency.png',dpi=250,bbox_inches='tight')\n",
    "plt.show()"
   ]
  },
  {
   "cell_type": "code",
   "execution_count": 105,
   "id": "3defd9f2",
   "metadata": {},
   "outputs": [
    {
     "name": "stdout",
     "output_type": "stream",
     "text": [
      "starting on energy 0\n"
     ]
    },
    {
     "name": "stderr",
     "output_type": "stream",
     "text": [
      "No handles with labels found to put in legend.\n"
     ]
    },
    {
     "name": "stdout",
     "output_type": "stream",
     "text": [
      "starting on energy 1\n"
     ]
    },
    {
     "name": "stderr",
     "output_type": "stream",
     "text": [
      "No handles with labels found to put in legend.\n"
     ]
    },
    {
     "name": "stdout",
     "output_type": "stream",
     "text": [
      "starting on energy 2\n"
     ]
    },
    {
     "name": "stderr",
     "output_type": "stream",
     "text": [
      "No handles with labels found to put in legend.\n"
     ]
    },
    {
     "name": "stdout",
     "output_type": "stream",
     "text": [
      "starting on energy 3\n"
     ]
    },
    {
     "name": "stderr",
     "output_type": "stream",
     "text": [
      "No handles with labels found to put in legend.\n"
     ]
    },
    {
     "name": "stdout",
     "output_type": "stream",
     "text": [
      "starting on energy 4\n"
     ]
    },
    {
     "name": "stderr",
     "output_type": "stream",
     "text": [
      "No handles with labels found to put in legend.\n"
     ]
    },
    {
     "name": "stdout",
     "output_type": "stream",
     "text": [
      "starting on energy 5\n"
     ]
    },
    {
     "name": "stderr",
     "output_type": "stream",
     "text": [
      "No handles with labels found to put in legend.\n"
     ]
    },
    {
     "data": {
      "image/png": "[encoded data removed]",
      "text/plain": [
       "<Figure size 864x720 with 7 Axes>"
      ]
     },
     "metadata": {
      "needs_background": "light"
     },
     "output_type": "display_data"
    }
   ],
   "source": [
    "energies=energiesrange[5:90:15]\n",
    "locs=range(0,6)\n",
    "a=0\n",
    "\n",
    "fig, axes = plt.subplots(nrows=2, ncols=3,figsize=(12,10), sharex=True, sharey=True)\n",
    "cmap = plt.get_cmap('Blues')\n",
    "for ax in axes.flat:\n",
    "    \n",
    "    print(\"starting on energy\",a)\n",
    "    LOC=locs[a]\n",
    "    \n",
    "\n",
    "\n",
    "    E=energies[LOC]\n",
    "\n",
    "    inteAs=[]\n",
    "    inteBs=[]\n",
    "    inteflux=[]\n",
    "\n",
    "    for A in alpharange[::4]:\n",
    "        #print(A)\n",
    "        for B in betarange[::25]:\n",
    "            alp=np.deg2rad(A)\n",
    "            bet=np.deg2rad(B)\n",
    "            inteAs.append(np.cos(alp))\n",
    "            inteBs.append(bet)\n",
    "\n",
    "            FLUX=mussimData[(mussimData.alpha==A)&(mussimData.beta==B)&(mussimData.Energies==E)].MuFLux.iloc[0]\n",
    "            inteflux.append(FLUX)\n",
    "\n",
    "\n",
    "    inteflux = np.array(inteflux)\n",
    "    inteflux=inteflux.reshape(len(np.unique(inteAs)), len(np.unique(inteBs)))\n",
    "\n",
    "\n",
    "    im=ax.pcolormesh(np.unique(inteAs),np.unique(inteBs),np.transpose(inteflux),cmap=cmap.reversed(),shading='auto',vmin=0,vmax=.22)\n",
    "\n",
    "\n",
    "\n",
    "    #clb=fig.colorbar(c, ax=ax)\n",
    "    #clb.ax.tick_params(labelsize=18) \n",
    "\n",
    "    #clb.ax.set_ylabel('MuonFlux'+ r'$(E/ {GeV})^3\\,\\Phi (GeV cm^{-2}\\,$s$^{-1}$) (GeV)', rotation=270,fontsize=18, labelpad=15)\n",
    "\n",
    "    \n",
    "    ax.set_ylim(-np.pi,np.pi)\n",
    "    ax.set_xlim(0,1)\n",
    "    ax.tick_params(axis='both', which='major', labelsize=12)\n",
    "    \n",
    "\n",
    "    ax.legend(loc='lower right',title=str(E*10**-3)+'TeV',title_fontsize=12)\n",
    "\n",
    "    if (LOC>2):\n",
    "        ax.set_xlabel(\"cos(zenith)\",fontsize=16)\n",
    "    if (LOC==0) or (LOC==3):        \n",
    "        ax.set_ylabel(\"Azimuth\",fontsize=16)\n",
    "\n",
    "\n",
    "    a+=1\n",
    "\n",
    "fig.subplots_adjust(wspace=.05, hspace=.05)\n",
    "\n",
    "cbar=fig.colorbar(im, ax=axes.ravel().tolist())\n",
    "#cbar.set_ticks(np.arange(0, 1, 0.2))\n",
    "cbar.set_label('MuonFlux'+ r'$(E/ {GeV})^3\\,\\Phi (GeV cm^{-2}\\,$s$^{-1}$,$sr^{-1}$)',fontsize=16)\n",
    "cbar.ax.tick_params(labelsize=16)\n",
    "#fig.clim(0,1)\n",
    "\n",
    "\n",
    "#fig.savefig(\"/Users/rogerslc/PROPOSAL/PROPOSAL/SimulatedPercents.png\",dpi=250,bbox_inches='tight')\n",
    "\n",
    "#plt.show()\n",
    "\n",
    "\n",
    "\n",
    "\n"
   ]
  },
  {
   "cell_type": "code",
   "execution_count": 70,
   "id": "b9ffda79",
   "metadata": {},
   "outputs": [
    {
     "data": {
      "text/plain": [
       "6"
      ]
     },
     "execution_count": 70,
     "metadata": {},
     "output_type": "execute_result"
    }
   ],
   "source": [
    "energies=energiesrange[5:90:15]\n",
    "locs=range(0,6)\n",
    "a=0\n",
    "\n",
    "fig, axes = plt.subplots(nrows=2, ncols=3,figsize=(12,10), sharex=True, sharey=True)\n",
    "cmap = plt.get_cmap('Blues')\n",
    "for ax in axes.flat:\n",
    "    \n",
    "    print(\"starting on energy\",a)\n",
    "    LOC=locs[a]\n",
    "    \n",
    "\n",
    "\n",
    "    E=energies[LOC]\n",
    "\n",
    "    inteAs=[]\n",
    "    inteBs=[]\n",
    "    inteflux=[]\n",
    "\n",
    "    for A in alpharange[::4]:\n",
    "        #print(A)\n",
    "        for B in betarange[::25]:\n",
    "            alp=np.deg2rad(A)\n",
    "            bet=np.deg2rad(B)\n",
    "            inteAs.append(np.cos(alp))\n",
    "            inteBs.append(bet)\n",
    "\n",
    "            FLUX=mussimData[(mussimData.alpha==A)&(mussimData.beta==B)&(mussimData.Energies==E)].MuFLux.iloc[0]\n",
    "            inteflux.append(FLUX)\n",
    "\n",
    "\n",
    "    inteflux = np.array(inteflux)\n",
    "    inteflux=inteflux.reshape(len(np.unique(inteAs)), len(np.unique(inteBs)))\n",
    "\n",
    "\n",
    "\n",
    "\n",
    "    a+=1\n",
    "\n",
    "    df=pd.DataFrame(inteAs, columns = ['Alpha'])\n",
    "    df['Beta']=inteBs\n",
    "    df['Muflux']=inteflux\n",
    "\n",
    "    fluxarray=np.array(df.Muflux)\n",
    "    fluxarray = fluxarray.reshape(len(df.Alpha.unique()), len(df.Beta.unique()))\n",
    "    FluxMuons=scipy.interpolate.RectBivariateSpline(np.unique(df.Alpha),np.unique(df.Beta),fluxarray,s=0,kx=3, ky=3)\n",
    "\n",
    "    with open('/Users/rogerslc/MCeQ/MCeQ_Muons_interpolator'+str(np.round((E*10**-3),4))+'TeV.pkl', 'wb') as f:\n",
    "        pickle.dump(FluxMuons, f)\n",
    "        \n"
   ]
  },
  {
   "cell_type": "code",
   "execution_count": null,
   "id": "5fbfe45b",
   "metadata": {},
   "outputs": [],
   "source": []
  }
 ],
 "metadata": {
  "kernelspec": {
   "display_name": "Python 3 (ipykernel)",
   "language": "python",
   "name": "python3"
  },
  "language_info": {
   "codemirror_mode": {
    "name": "ipython",
    "version": 3
   },
   "file_extension": ".py",
   "mimetype": "text/x-python",
   "name": "python",
   "nbconvert_exporter": "python",
   "pygments_lexer": "ipython3",
   "version": "3.9.6"
  }
 },
 "nbformat": 4,
 "nbformat_minor": 5
}
