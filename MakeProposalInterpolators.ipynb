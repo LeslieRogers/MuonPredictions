{
 "cells": [
  {
   "cell_type": "code",
   "execution_count": 4,
   "metadata": {},
   "outputs": [],
   "source": [
    "import numpy as np\n",
    "import pandas as pd\n",
    "try:\n",
    "    import cPickle as pickle\n",
    "except ImportError:\n",
    "    import pickle\n",
    "import scipy\n",
    "from scipy import interpolate\n",
    "from scipy.interpolate import interp2d, NearestNDInterpolator,LinearNDInterpolator"
   ]
  },
  {
   "cell_type": "code",
   "execution_count": null,
   "metadata": {},
   "outputs": [],
   "source": [
    "musDatamtn=pd.read_hdf('./CombinedProposalInterpOutputs.h5','Muons')\n",
    "energies=musDatamtn.Energy.unique()\n",
    "energies.sort()\n",
    "\n",
    "for LOC in range(0,len(energies)):\n",
    "\n",
    "    NRG=energies[LOC]\n",
    "    MUSinterp=musDatamtn[musDatamtn.Energy==NRG]\n",
    "\n",
    "    X=MUSinterp.X.values\n",
    "    Y=MUSinterp.Y.values\n",
    "    Z=MUSinterp.SurvivalPercent.values\n",
    "\n",
    "    PercentMuons=LinearNDInterpolator(np.array([X,Y]).transpose(),np.array(Z).flatten(),rescale=True)    \n",
    "\n",
    "    with open('./NewInterps/Proposal_Muons_interpolator'+str(NRG*10**-3)+'GeV.pkl', 'wb') as f:\n",
    "        pickle.dump(PercentMuons, f)"
   ]
  }
 ],
 "metadata": {
  "kernelspec": {
   "display_name": "Python 3",
   "language": "python",
   "name": "python3"
  },
  "language_info": {
   "codemirror_mode": {
    "name": "ipython",
    "version": 3
   },
   "file_extension": ".py",
   "mimetype": "text/x-python",
   "name": "python",
   "nbconvert_exporter": "python",
   "pygments_lexer": "ipython3",
   "version": "3.8.6"
  }
 },
 "nbformat": 4,
 "nbformat_minor": 4
}
